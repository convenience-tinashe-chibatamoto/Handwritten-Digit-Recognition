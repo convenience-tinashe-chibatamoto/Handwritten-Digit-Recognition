{
  "nbformat": 4,
  "nbformat_minor": 0,
  "metadata": {
    "colab": {
      "provenance": [],
      "authorship_tag": "ABX9TyMPZiu2yeLNLa3TbW1Ka3MU",
      "include_colab_link": true
    },
    "kernelspec": {
      "name": "python3",
      "display_name": "Python 3"
    },
    "language_info": {
      "name": "python"
    }
  },
  "cells": [
    {
      "cell_type": "markdown",
      "metadata": {
        "id": "view-in-github",
        "colab_type": "text"
      },
      "source": [
        "<a href=\"https://colab.research.google.com/github/convenience-tinashe-chibatamoto/Handwritten-Digit-Recognition/blob/main/Handwritten_Digit_Recognition_Using_Tensorflow.ipynb\" target=\"_parent\"><img src=\"https://colab.research.google.com/assets/colab-badge.svg\" alt=\"Open In Colab\"/></a>"
      ]
    },
    {
      "cell_type": "code",
      "execution_count": 1,
      "metadata": {
        "id": "c0XBh1oSAdtb"
      },
      "outputs": [],
      "source": [
        "# Importing the necessary libraries:\n",
        "import numpy as np\n",
        "import tensorflow as tf\n",
        "from tensorflow.keras.datasets import mnist\n",
        "from tensorflow.keras.models import Sequential\n",
        "from tensorflow.keras.layers import Dense, Flatten\n",
        "from tensorflow.keras.optimizers import Adam\n",
        "import matplotlib.pyplot as plt"
      ]
    },
    {
      "cell_type": "code",
      "source": [
        "# Loading the MNIST dataset:\n",
        "(X_train, y_train), (X_test, y_test) = mnist.load_data()"
      ],
      "metadata": {
        "colab": {
          "base_uri": "https://localhost:8080/"
        },
        "id": "cdokRL5YBVVx",
        "outputId": "04ea87f7-d5a6-4e75-90ff-12fc857bdfb1"
      },
      "execution_count": 2,
      "outputs": [
        {
          "output_type": "stream",
          "name": "stdout",
          "text": [
            "Downloading data from https://storage.googleapis.com/tensorflow/tf-keras-datasets/mnist.npz\n",
            "11490434/11490434 [==============================] - 0s 0us/step\n"
          ]
        }
      ]
    },
    {
      "cell_type": "code",
      "source": [
        "# Plot 9 sample images\n",
        "plt.figure(figsize=(9, 9))\n",
        "for i in range(9):\n",
        "    plt.subplot(3, 3, i+1)\n",
        "    plt.imshow(X_train[i], cmap='gray')\n",
        "    plt.axis('off')\n",
        "plt.suptitle('Sample Handwritten Digits')\n",
        "plt.show()"
      ],
      "metadata": {
        "colab": {
          "base_uri": "https://localhost:8080/",
          "height": 819
        },
        "id": "Wpe4JgniMsKf",
        "outputId": "34931f0c-0e17-47d1-87eb-8bb4c19ff52a"
      },
      "execution_count": 3,
      "outputs": [
        {
          "output_type": "display_data",
          "data": {
            "text/plain": [
              "<Figure size 900x900 with 9 Axes>"
            ],
            "image/png": "[encoded data removed]"
          },
          "metadata": {}
        }
      ]
    },
    {
      "cell_type": "markdown",
      "source": [
        "***\n",
        "Preprocessing the data\n",
        "***"
      ],
      "metadata": {
        "id": "CP1M421zK9z0"
      }
    },
    {
      "cell_type": "code",
      "source": [
        "# Normalising the pixel values to the range [0, 1]:\n",
        "X_train = X_train / 255.0\n",
        "X_test = X_test / 255.0"
      ],
      "metadata": {
        "id": "851bx5gKKKKy"
      },
      "execution_count": 4,
      "outputs": []
    },
    {
      "cell_type": "code",
      "source": [
        "# Reshaping the input data to fit the model:\n",
        "X_train = X_train.reshape(-1, 28 * 28)\n",
        "X_test = X_test.reshape(-1, 28 * 28)"
      ],
      "metadata": {
        "id": "mqeqLZ9TKdbp"
      },
      "execution_count": 5,
      "outputs": []
    },
    {
      "cell_type": "markdown",
      "source": [
        "***\n",
        "Defining the model architecture\n",
        "***"
      ],
      "metadata": {
        "id": "gFwzp9xQLQx1"
      }
    },
    {
      "cell_type": "code",
      "source": [
        "# Creating a sequential model\n",
        "model = Sequential()\n",
        "\n",
        "\n",
        "# Adding the necessary layers:\n",
        "model.add(Dense(128, activation='relu', input_shape=(28 * 28,)))\n",
        "model.add(Dense(64, activation='relu'))\n",
        "model.add(Dense(10, activation='softmax'))\n"
      ],
      "metadata": {
        "id": "FLwL975aKoy4"
      },
      "execution_count": 6,
      "outputs": []
    },
    {
      "cell_type": "markdown",
      "source": [
        "***\n",
        "Model Compilation and Training\n",
        "***"
      ],
      "metadata": {
        "id": "e5ntCtvQLkJr"
      }
    },
    {
      "cell_type": "code",
      "source": [
        "model.compile(optimizer=Adam(learning_rate=0.001), loss='categorical_crossentropy', metrics=['accuracy'])\n",
        "\n",
        "model.fit(X_train, tf.keras.utils.to_categorical(y_train), epochs=10, batch_size=32, validation_data=(X_test, tf.keras.utils.to_categorical(y_test)))"
      ],
      "metadata": {
        "colab": {
          "base_uri": "https://localhost:8080/"
        },
        "id": "VgpRH4jYLjKe",
        "outputId": "9cfa0af7-8830-427c-e3fb-fe4689739318"
      },
      "execution_count": 7,
      "outputs": [
        {
          "output_type": "stream",
          "name": "stdout",
          "text": [
            "Epoch 1/10\n",
            "1875/1875 [==============================] - 21s 10ms/step - loss: 0.2345 - accuracy: 0.9314 - val_loss: 0.1117 - val_accuracy: 0.9668\n",
            "Epoch 2/10\n",
            "1875/1875 [==============================] - 8s 4ms/step - loss: 0.1013 - accuracy: 0.9694 - val_loss: 0.1103 - val_accuracy: 0.9670\n",
            "Epoch 3/10\n",
            "1875/1875 [==============================] - 7s 4ms/step - loss: 0.0698 - accuracy: 0.9787 - val_loss: 0.1062 - val_accuracy: 0.9684\n",
            "Epoch 4/10\n",
            "1875/1875 [==============================] - 8s 4ms/step - loss: 0.0552 - accuracy: 0.9823 - val_loss: 0.0746 - val_accuracy: 0.9782\n",
            "Epoch 5/10\n",
            "1875/1875 [==============================] - 8s 4ms/step - loss: 0.0423 - accuracy: 0.9861 - val_loss: 0.0733 - val_accuracy: 0.9775\n",
            "Epoch 6/10\n",
            "1875/1875 [==============================] - 7s 4ms/step - loss: 0.0346 - accuracy: 0.9885 - val_loss: 0.0736 - val_accuracy: 0.9791\n",
            "Epoch 7/10\n",
            "1875/1875 [==============================] - 9s 5ms/step - loss: 0.0281 - accuracy: 0.9906 - val_loss: 0.0784 - val_accuracy: 0.9786\n",
            "Epoch 8/10\n",
            "1875/1875 [==============================] - 8s 4ms/step - loss: 0.0246 - accuracy: 0.9920 - val_loss: 0.0872 - val_accuracy: 0.9760\n",
            "Epoch 9/10\n",
            "1875/1875 [==============================] - 8s 4ms/step - loss: 0.0211 - accuracy: 0.9930 - val_loss: 0.0900 - val_accuracy: 0.9768\n",
            "Epoch 10/10\n",
            "1875/1875 [==============================] - 9s 5ms/step - loss: 0.0196 - accuracy: 0.9933 - val_loss: 0.0855 - val_accuracy: 0.9797\n"
          ]
        },
        {
          "output_type": "execute_result",
          "data": {
            "text/plain": [
              "<keras.src.callbacks.History at 0x7de37a705c90>"
            ]
          },
          "metadata": {},
          "execution_count": 7
        }
      ]
    },
    {
      "cell_type": "markdown",
      "source": [
        "***\n",
        "Model Evaluation\n",
        "***"
      ],
      "metadata": {
        "id": "VJPNk_Q4L7vk"
      }
    },
    {
      "cell_type": "code",
      "source": [
        "loss, accuracy = model.evaluate(X_test, tf.keras.utils.to_categorical(y_test))\n",
        "print(f'Test loss: {loss:.4f}')\n",
        "print(f'Test accuracy: {accuracy:.4f}')"
      ],
      "metadata": {
        "colab": {
          "base_uri": "https://localhost:8080/"
        },
        "id": "GKRptGWDL0lJ",
        "outputId": "ac5f0533-01e2-4310-d96c-2717c0728666"
      },
      "execution_count": 8,
      "outputs": [
        {
          "output_type": "stream",
          "name": "stdout",
          "text": [
            "313/313 [==============================] - 1s 2ms/step - loss: 0.0855 - accuracy: 0.9797\n",
            "Test loss: 0.0855\n",
            "Test accuracy: 0.9797\n"
          ]
        }
      ]
    }
  ]
}